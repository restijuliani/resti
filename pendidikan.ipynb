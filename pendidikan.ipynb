{
  "nbformat": 4,
  "nbformat_minor": 0,
  "metadata": {
    "colab": {
      "provenance": []
    },
    "kernelspec": {
      "name": "python3",
      "display_name": "Python 3"
    },
    "language_info": {
      "name": "python"
    }
  },
  "cells": [
    {
      "cell_type": "code",
      "execution_count": null,
      "metadata": {
        "colab": {
          "base_uri": "https://localhost:8080/"
        },
        "id": "pEO-rbX0E2-B",
        "outputId": "290a94ac-59ba-4088-cd41-df725b82d3ae"
      },
      "outputs": [
        {
          "output_type": "stream",
          "name": "stdout",
          "text": [
            "Drive already mounted at /content/drive; to attempt to forcibly remount, call drive.mount(\"/content/drive\", force_remount=True).\n"
          ]
        }
      ],
      "source": [
        "from google.colab import drive\n",
        "drive.mount('/content/drive')"
      ]
    },
    {
      "cell_type": "code",
      "source": [
        "import pandas as pd\n",
        "\n",
        "path='/content/drive/MyDrive/CSV/datajumlahsiswa.csv'\n",
        "df = pd.read_csv(path)\n",
        "df.describe()"
      ],
      "metadata": {
        "colab": {
          "base_uri": "https://localhost:8080/",
          "height": 300
        },
        "id": "aC40SabQFGIF",
        "outputId": "45f26124-70d3-4748-d3dc-5f4eb7f3713d"
      },
      "execution_count": null,
      "outputs": [
        {
          "output_type": "execute_result",
          "data": {
            "text/plain": [
              "       jumlah_siswa  jumlah_guru\n",
              "count     23.000000    23.000000\n",
              "mean     578.434783    23.391304\n",
              "std      225.965570     7.590300\n",
              "min      337.000000    13.000000\n",
              "25%      381.000000    16.500000\n",
              "50%      564.000000    23.000000\n",
              "75%      755.000000    28.500000\n",
              "max     1226.000000    42.000000"
            ],
            "text/html": [
              "\n",
              "  <div id=\"df-dbdccb10-cd77-49f4-9d86-9289e14f5e5a\">\n",
              "    <div class=\"colab-df-container\">\n",
              "      <div>\n",
              "<style scoped>\n",
              "    .dataframe tbody tr th:only-of-type {\n",
              "        vertical-align: middle;\n",
              "    }\n",
              "\n",
              "    .dataframe tbody tr th {\n",
              "        vertical-align: top;\n",
              "    }\n",
              "\n",
              "    .dataframe thead th {\n",
              "        text-align: right;\n",
              "    }\n",
              "</style>\n",
              "<table border=\"1\" class=\"dataframe\">\n",
              "  <thead>\n",
              "    <tr style=\"text-align: right;\">\n",
              "      <th></th>\n",
              "      <th>jumlah_siswa</th>\n",
              "      <th>jumlah_guru</th>\n",
              "    </tr>\n",
              "  </thead>\n",
              "  <tbody>\n",
              "    <tr>\n",
              "      <th>count</th>\n",
              "      <td>23.000000</td>\n",
              "      <td>23.000000</td>\n",
              "    </tr>\n",
              "    <tr>\n",
              "      <th>mean</th>\n",
              "      <td>578.434783</td>\n",
              "      <td>23.391304</td>\n",
              "    </tr>\n",
              "    <tr>\n",
              "      <th>std</th>\n",
              "      <td>225.965570</td>\n",
              "      <td>7.590300</td>\n",
              "    </tr>\n",
              "    <tr>\n",
              "      <th>min</th>\n",
              "      <td>337.000000</td>\n",
              "      <td>13.000000</td>\n",
              "    </tr>\n",
              "    <tr>\n",
              "      <th>25%</th>\n",
              "      <td>381.000000</td>\n",
              "      <td>16.500000</td>\n",
              "    </tr>\n",
              "    <tr>\n",
              "      <th>50%</th>\n",
              "      <td>564.000000</td>\n",
              "      <td>23.000000</td>\n",
              "    </tr>\n",
              "    <tr>\n",
              "      <th>75%</th>\n",
              "      <td>755.000000</td>\n",
              "      <td>28.500000</td>\n",
              "    </tr>\n",
              "    <tr>\n",
              "      <th>max</th>\n",
              "      <td>1226.000000</td>\n",
              "      <td>42.000000</td>\n",
              "    </tr>\n",
              "  </tbody>\n",
              "</table>\n",
              "</div>\n",
              "      <button class=\"colab-df-convert\" onclick=\"convertToInteractive('df-dbdccb10-cd77-49f4-9d86-9289e14f5e5a')\"\n",
              "              title=\"Convert this dataframe to an interactive table.\"\n",
              "              style=\"display:none;\">\n",
              "        \n",
              "  <svg xmlns=\"http://www.w3.org/2000/svg\" height=\"24px\"viewBox=\"0 0 24 24\"\n",
              "       width=\"24px\">\n",
              "    <path d=\"M0 0h24v24H0V0z\" fill=\"none\"/>\n",
              "    <path d=\"M18.56 5.44l.94 2.06.94-2.06 2.06-.94-2.06-.94-.94-2.06-.94 2.06-2.06.94zm-11 1L8.5 8.5l.94-2.06 2.06-.94-2.06-.94L8.5 2.5l-.94 2.06-2.06.94zm10 10l.94 2.06.94-2.06 2.06-.94-2.06-.94-.94-2.06-.94 2.06-2.06.94z\"/><path d=\"M17.41 7.96l-1.37-1.37c-.4-.4-.92-.59-1.43-.59-.52 0-1.04.2-1.43.59L10.3 9.45l-7.72 7.72c-.78.78-.78 2.05 0 2.83L4 21.41c.39.39.9.59 1.41.59.51 0 1.02-.2 1.41-.59l7.78-7.78 2.81-2.81c.8-.78.8-2.07 0-2.86zM5.41 20L4 18.59l7.72-7.72 1.47 1.35L5.41 20z\"/>\n",
              "  </svg>\n",
              "      </button>\n",
              "      \n",
              "  <style>\n",
              "    .colab-df-container {\n",
              "      display:flex;\n",
              "      flex-wrap:wrap;\n",
              "      gap: 12px;\n",
              "    }\n",
              "\n",
              "    .colab-df-convert {\n",
              "      background-color: #E8F0FE;\n",
              "      border: none;\n",
              "      border-radius: 50%;\n",
              "      cursor: pointer;\n",
              "      display: none;\n",
              "      fill: #1967D2;\n",
              "      height: 32px;\n",
              "      padding: 0 0 0 0;\n",
              "      width: 32px;\n",
              "    }\n",
              "\n",
              "    .colab-df-convert:hover {\n",
              "      background-color: #E2EBFA;\n",
              "      box-shadow: 0px 1px 2px rgba(60, 64, 67, 0.3), 0px 1px 3px 1px rgba(60, 64, 67, 0.15);\n",
              "      fill: #174EA6;\n",
              "    }\n",
              "\n",
              "    [theme=dark] .colab-df-convert {\n",
              "      background-color: #3B4455;\n",
              "      fill: #D2E3FC;\n",
              "    }\n",
              "\n",
              "    [theme=dark] .colab-df-convert:hover {\n",
              "      background-color: #434B5C;\n",
              "      box-shadow: 0px 1px 3px 1px rgba(0, 0, 0, 0.15);\n",
              "      filter: drop-shadow(0px 1px 2px rgba(0, 0, 0, 0.3));\n",
              "      fill: #FFFFFF;\n",
              "    }\n",
              "  </style>\n",
              "\n",
              "      <script>\n",
              "        const buttonEl =\n",
              "          document.querySelector('#df-dbdccb10-cd77-49f4-9d86-9289e14f5e5a button.colab-df-convert');\n",
              "        buttonEl.style.display =\n",
              "          google.colab.kernel.accessAllowed ? 'block' : 'none';\n",
              "\n",
              "        async function convertToInteractive(key) {\n",
              "          const element = document.querySelector('#df-dbdccb10-cd77-49f4-9d86-9289e14f5e5a');\n",
              "          const dataTable =\n",
              "            await google.colab.kernel.invokeFunction('convertToInteractive',\n",
              "                                                     [key], {});\n",
              "          if (!dataTable) return;\n",
              "\n",
              "          const docLinkHtml = 'Like what you see? Visit the ' +\n",
              "            '<a target=\"_blank\" href=https://colab.research.google.com/notebooks/data_table.ipynb>data table notebook</a>'\n",
              "            + ' to learn more about interactive tables.';\n",
              "          element.innerHTML = '';\n",
              "          dataTable['output_type'] = 'display_data';\n",
              "          await google.colab.output.renderOutput(dataTable, element);\n",
              "          const docLink = document.createElement('div');\n",
              "          docLink.innerHTML = docLinkHtml;\n",
              "          element.appendChild(docLink);\n",
              "        }\n",
              "      </script>\n",
              "    </div>\n",
              "  </div>\n",
              "  "
            ]
          },
          "metadata": {},
          "execution_count": 5
        }
      ]
    },
    {
      "cell_type": "code",
      "source": [
        "df\n"
      ],
      "metadata": {
        "colab": {
          "base_uri": "https://localhost:8080/",
          "height": 771
        },
        "id": "tkeCFvx3FUGE",
        "outputId": "51b02519-20a4-4ed8-85dd-ed9e55bf668a"
      },
      "execution_count": null,
      "outputs": [
        {
          "output_type": "execute_result",
          "data": {
            "text/plain": [
              "                nama_sekolah kecamatan kota_adminstrasi  jumlah_siswa  \\\n",
              "0    SDN Cakung Timur 03 Pg.    Cakung    Jakarta Timur           396   \n",
              "1    SDN Cakung Barat 08 Pg.    Cakung    Jakarta Timur           604   \n",
              "2    SDN Cakung Barat 04 Pg.    Cakung    Jakarta Timur           630   \n",
              "3    SDN Cakung Barat 05 Pg.    Cakung    Jakarta Timur           462   \n",
              "4    SDN Cakung Timur 06 Pg.    Cakung    Jakarta Timur           825   \n",
              "5        SDN Cakung Barat 02    Cakung    Jakarta Timur           687   \n",
              "6       SDN Ujung Menteng 02    Cakung    Jakarta Timur           458   \n",
              "7   SDN Ujung Menteng 07 Pg.    Cakung    Jakarta Timur           374   \n",
              "8   SDN Ujung Menteng 04 Pg.    Cakung    Jakarta Timur           381   \n",
              "9   SDN Ujung Menteng 01 Pg.    Cakung    Jakarta Timur           365   \n",
              "10     SDN Pulogebang 11 Pg.    Cakung    Jakarta Timur           819   \n",
              "11     SDN Rawaterate 01 Pg.    Cakung    Jakarta Timur           381   \n",
              "12     SDN Rawaterate 02 Pt.    Cakung    Jakarta Timur           337   \n",
              "13     SDN Pulogebang 24 Pg.    Cakung    Jakarta Timur           448   \n",
              "14     SDN Jatinegara 06 Pg.    Cakung    Jakarta Timur          1226   \n",
              "15   SDN Penggilingan 01 Pg.    Cakung    Jakarta Timur           564   \n",
              "16     SDN Pulogebang 13 Pg.    Cakung    Jakarta Timur           792   \n",
              "17     SDN Jatinegara 01 Pg.    Cakung    Jakarta Timur           742   \n",
              "18   SDN Penggilingan 09 Pg.    Cakung    Jakarta Timur           341   \n",
              "19     SDN Pulogebang 02 Pg.    Cakung    Jakarta Timur           795   \n",
              "20     SDN Pulogebang 01 Pg.    Cakung    Jakarta Timur           768   \n",
              "21     SDN Pulogebang 06 Pg.    Cakung    Jakarta Timur           568   \n",
              "22   SDN Penggilingan 08 Pt.    Cakung    Jakarta Timur           341   \n",
              "\n",
              "    jumlah_guru    latitude    longitude  \n",
              "0            18     -61.725  106.949.402  \n",
              "1            27  -6.172.672  106.934.906  \n",
              "2            27  -6.174.624  106.939.072  \n",
              "3            22  -6.178.544  106.933.456  \n",
              "4            28     -61.797  106.947.998  \n",
              "5            30     -61.805  106.938.797  \n",
              "6            23  -6.183.091  106.960.663  \n",
              "7            14  -6.184.075  106.963.066  \n",
              "8            19  -6.184.091  106.963.028  \n",
              "9            15  -6.184.853  106.961.769  \n",
              "10           31     -61.849  106.944.901  \n",
              "11           14  -6.188.258   10.692.321  \n",
              "12           15  -6.188.546  106.923.264  \n",
              "13           18  -6.194.948  106.965.431  \n",
              "14           42     -61.958  106.926.399  \n",
              "15           26     -61.963  106.935.501  \n",
              "16           31     -61.968  106.962.601  \n",
              "17           29    -619.681  106.920.898  \n",
              "18           13  -6.202.888  106.931.747  \n",
              "19           32  -6.203.424  106.953.117  \n",
              "20           28     -62.037  106.955.498  \n",
              "21           21  -6.204.672  106.942.169  \n",
              "22           15    -620.543  106.930.168  "
            ],
            "text/html": [
              "\n",
              "  <div id=\"df-6d361c8b-6423-43cb-8808-c551864a32e2\">\n",
              "    <div class=\"colab-df-container\">\n",
              "      <div>\n",
              "<style scoped>\n",
              "    .dataframe tbody tr th:only-of-type {\n",
              "        vertical-align: middle;\n",
              "    }\n",
              "\n",
              "    .dataframe tbody tr th {\n",
              "        vertical-align: top;\n",
              "    }\n",
              "\n",
              "    .dataframe thead th {\n",
              "        text-align: right;\n",
              "    }\n",
              "</style>\n",
              "<table border=\"1\" class=\"dataframe\">\n",
              "  <thead>\n",
              "    <tr style=\"text-align: right;\">\n",
              "      <th></th>\n",
              "      <th>nama_sekolah</th>\n",
              "      <th>kecamatan</th>\n",
              "      <th>kota_adminstrasi</th>\n",
              "      <th>jumlah_siswa</th>\n",
              "      <th>jumlah_guru</th>\n",
              "      <th>latitude</th>\n",
              "      <th>longitude</th>\n",
              "    </tr>\n",
              "  </thead>\n",
              "  <tbody>\n",
              "    <tr>\n",
              "      <th>0</th>\n",
              "      <td>SDN Cakung Timur 03 Pg.</td>\n",
              "      <td>Cakung</td>\n",
              "      <td>Jakarta Timur</td>\n",
              "      <td>396</td>\n",
              "      <td>18</td>\n",
              "      <td>-61.725</td>\n",
              "      <td>106.949.402</td>\n",
              "    </tr>\n",
              "    <tr>\n",
              "      <th>1</th>\n",
              "      <td>SDN Cakung Barat 08 Pg.</td>\n",
              "      <td>Cakung</td>\n",
              "      <td>Jakarta Timur</td>\n",
              "      <td>604</td>\n",
              "      <td>27</td>\n",
              "      <td>-6.172.672</td>\n",
              "      <td>106.934.906</td>\n",
              "    </tr>\n",
              "    <tr>\n",
              "      <th>2</th>\n",
              "      <td>SDN Cakung Barat 04 Pg.</td>\n",
              "      <td>Cakung</td>\n",
              "      <td>Jakarta Timur</td>\n",
              "      <td>630</td>\n",
              "      <td>27</td>\n",
              "      <td>-6.174.624</td>\n",
              "      <td>106.939.072</td>\n",
              "    </tr>\n",
              "    <tr>\n",
              "      <th>3</th>\n",
              "      <td>SDN Cakung Barat 05 Pg.</td>\n",
              "      <td>Cakung</td>\n",
              "      <td>Jakarta Timur</td>\n",
              "      <td>462</td>\n",
              "      <td>22</td>\n",
              "      <td>-6.178.544</td>\n",
              "      <td>106.933.456</td>\n",
              "    </tr>\n",
              "    <tr>\n",
              "      <th>4</th>\n",
              "      <td>SDN Cakung Timur 06 Pg.</td>\n",
              "      <td>Cakung</td>\n",
              "      <td>Jakarta Timur</td>\n",
              "      <td>825</td>\n",
              "      <td>28</td>\n",
              "      <td>-61.797</td>\n",
              "      <td>106.947.998</td>\n",
              "    </tr>\n",
              "    <tr>\n",
              "      <th>5</th>\n",
              "      <td>SDN Cakung Barat 02</td>\n",
              "      <td>Cakung</td>\n",
              "      <td>Jakarta Timur</td>\n",
              "      <td>687</td>\n",
              "      <td>30</td>\n",
              "      <td>-61.805</td>\n",
              "      <td>106.938.797</td>\n",
              "    </tr>\n",
              "    <tr>\n",
              "      <th>6</th>\n",
              "      <td>SDN Ujung Menteng 02</td>\n",
              "      <td>Cakung</td>\n",
              "      <td>Jakarta Timur</td>\n",
              "      <td>458</td>\n",
              "      <td>23</td>\n",
              "      <td>-6.183.091</td>\n",
              "      <td>106.960.663</td>\n",
              "    </tr>\n",
              "    <tr>\n",
              "      <th>7</th>\n",
              "      <td>SDN Ujung Menteng 07 Pg.</td>\n",
              "      <td>Cakung</td>\n",
              "      <td>Jakarta Timur</td>\n",
              "      <td>374</td>\n",
              "      <td>14</td>\n",
              "      <td>-6.184.075</td>\n",
              "      <td>106.963.066</td>\n",
              "    </tr>\n",
              "    <tr>\n",
              "      <th>8</th>\n",
              "      <td>SDN Ujung Menteng 04 Pg.</td>\n",
              "      <td>Cakung</td>\n",
              "      <td>Jakarta Timur</td>\n",
              "      <td>381</td>\n",
              "      <td>19</td>\n",
              "      <td>-6.184.091</td>\n",
              "      <td>106.963.028</td>\n",
              "    </tr>\n",
              "    <tr>\n",
              "      <th>9</th>\n",
              "      <td>SDN Ujung Menteng 01 Pg.</td>\n",
              "      <td>Cakung</td>\n",
              "      <td>Jakarta Timur</td>\n",
              "      <td>365</td>\n",
              "      <td>15</td>\n",
              "      <td>-6.184.853</td>\n",
              "      <td>106.961.769</td>\n",
              "    </tr>\n",
              "    <tr>\n",
              "      <th>10</th>\n",
              "      <td>SDN Pulogebang 11 Pg.</td>\n",
              "      <td>Cakung</td>\n",
              "      <td>Jakarta Timur</td>\n",
              "      <td>819</td>\n",
              "      <td>31</td>\n",
              "      <td>-61.849</td>\n",
              "      <td>106.944.901</td>\n",
              "    </tr>\n",
              "    <tr>\n",
              "      <th>11</th>\n",
              "      <td>SDN Rawaterate 01 Pg.</td>\n",
              "      <td>Cakung</td>\n",
              "      <td>Jakarta Timur</td>\n",
              "      <td>381</td>\n",
              "      <td>14</td>\n",
              "      <td>-6.188.258</td>\n",
              "      <td>10.692.321</td>\n",
              "    </tr>\n",
              "    <tr>\n",
              "      <th>12</th>\n",
              "      <td>SDN Rawaterate 02 Pt.</td>\n",
              "      <td>Cakung</td>\n",
              "      <td>Jakarta Timur</td>\n",
              "      <td>337</td>\n",
              "      <td>15</td>\n",
              "      <td>-6.188.546</td>\n",
              "      <td>106.923.264</td>\n",
              "    </tr>\n",
              "    <tr>\n",
              "      <th>13</th>\n",
              "      <td>SDN Pulogebang 24 Pg.</td>\n",
              "      <td>Cakung</td>\n",
              "      <td>Jakarta Timur</td>\n",
              "      <td>448</td>\n",
              "      <td>18</td>\n",
              "      <td>-6.194.948</td>\n",
              "      <td>106.965.431</td>\n",
              "    </tr>\n",
              "    <tr>\n",
              "      <th>14</th>\n",
              "      <td>SDN Jatinegara 06 Pg.</td>\n",
              "      <td>Cakung</td>\n",
              "      <td>Jakarta Timur</td>\n",
              "      <td>1226</td>\n",
              "      <td>42</td>\n",
              "      <td>-61.958</td>\n",
              "      <td>106.926.399</td>\n",
              "    </tr>\n",
              "    <tr>\n",
              "      <th>15</th>\n",
              "      <td>SDN Penggilingan 01 Pg.</td>\n",
              "      <td>Cakung</td>\n",
              "      <td>Jakarta Timur</td>\n",
              "      <td>564</td>\n",
              "      <td>26</td>\n",
              "      <td>-61.963</td>\n",
              "      <td>106.935.501</td>\n",
              "    </tr>\n",
              "    <tr>\n",
              "      <th>16</th>\n",
              "      <td>SDN Pulogebang 13 Pg.</td>\n",
              "      <td>Cakung</td>\n",
              "      <td>Jakarta Timur</td>\n",
              "      <td>792</td>\n",
              "      <td>31</td>\n",
              "      <td>-61.968</td>\n",
              "      <td>106.962.601</td>\n",
              "    </tr>\n",
              "    <tr>\n",
              "      <th>17</th>\n",
              "      <td>SDN Jatinegara 01 Pg.</td>\n",
              "      <td>Cakung</td>\n",
              "      <td>Jakarta Timur</td>\n",
              "      <td>742</td>\n",
              "      <td>29</td>\n",
              "      <td>-619.681</td>\n",
              "      <td>106.920.898</td>\n",
              "    </tr>\n",
              "    <tr>\n",
              "      <th>18</th>\n",
              "      <td>SDN Penggilingan 09 Pg.</td>\n",
              "      <td>Cakung</td>\n",
              "      <td>Jakarta Timur</td>\n",
              "      <td>341</td>\n",
              "      <td>13</td>\n",
              "      <td>-6.202.888</td>\n",
              "      <td>106.931.747</td>\n",
              "    </tr>\n",
              "    <tr>\n",
              "      <th>19</th>\n",
              "      <td>SDN Pulogebang 02 Pg.</td>\n",
              "      <td>Cakung</td>\n",
              "      <td>Jakarta Timur</td>\n",
              "      <td>795</td>\n",
              "      <td>32</td>\n",
              "      <td>-6.203.424</td>\n",
              "      <td>106.953.117</td>\n",
              "    </tr>\n",
              "    <tr>\n",
              "      <th>20</th>\n",
              "      <td>SDN Pulogebang 01 Pg.</td>\n",
              "      <td>Cakung</td>\n",
              "      <td>Jakarta Timur</td>\n",
              "      <td>768</td>\n",
              "      <td>28</td>\n",
              "      <td>-62.037</td>\n",
              "      <td>106.955.498</td>\n",
              "    </tr>\n",
              "    <tr>\n",
              "      <th>21</th>\n",
              "      <td>SDN Pulogebang 06 Pg.</td>\n",
              "      <td>Cakung</td>\n",
              "      <td>Jakarta Timur</td>\n",
              "      <td>568</td>\n",
              "      <td>21</td>\n",
              "      <td>-6.204.672</td>\n",
              "      <td>106.942.169</td>\n",
              "    </tr>\n",
              "    <tr>\n",
              "      <th>22</th>\n",
              "      <td>SDN Penggilingan 08 Pt.</td>\n",
              "      <td>Cakung</td>\n",
              "      <td>Jakarta Timur</td>\n",
              "      <td>341</td>\n",
              "      <td>15</td>\n",
              "      <td>-620.543</td>\n",
              "      <td>106.930.168</td>\n",
              "    </tr>\n",
              "  </tbody>\n",
              "</table>\n",
              "</div>\n",
              "      <button class=\"colab-df-convert\" onclick=\"convertToInteractive('df-6d361c8b-6423-43cb-8808-c551864a32e2')\"\n",
              "              title=\"Convert this dataframe to an interactive table.\"\n",
              "              style=\"display:none;\">\n",
              "        \n",
              "  <svg xmlns=\"http://www.w3.org/2000/svg\" height=\"24px\"viewBox=\"0 0 24 24\"\n",
              "       width=\"24px\">\n",
              "    <path d=\"M0 0h24v24H0V0z\" fill=\"none\"/>\n",
              "    <path d=\"M18.56 5.44l.94 2.06.94-2.06 2.06-.94-2.06-.94-.94-2.06-.94 2.06-2.06.94zm-11 1L8.5 8.5l.94-2.06 2.06-.94-2.06-.94L8.5 2.5l-.94 2.06-2.06.94zm10 10l.94 2.06.94-2.06 2.06-.94-2.06-.94-.94-2.06-.94 2.06-2.06.94z\"/><path d=\"M17.41 7.96l-1.37-1.37c-.4-.4-.92-.59-1.43-.59-.52 0-1.04.2-1.43.59L10.3 9.45l-7.72 7.72c-.78.78-.78 2.05 0 2.83L4 21.41c.39.39.9.59 1.41.59.51 0 1.02-.2 1.41-.59l7.78-7.78 2.81-2.81c.8-.78.8-2.07 0-2.86zM5.41 20L4 18.59l7.72-7.72 1.47 1.35L5.41 20z\"/>\n",
              "  </svg>\n",
              "      </button>\n",
              "      \n",
              "  <style>\n",
              "    .colab-df-container {\n",
              "      display:flex;\n",
              "      flex-wrap:wrap;\n",
              "      gap: 12px;\n",
              "    }\n",
              "\n",
              "    .colab-df-convert {\n",
              "      background-color: #E8F0FE;\n",
              "      border: none;\n",
              "      border-radius: 50%;\n",
              "      cursor: pointer;\n",
              "      display: none;\n",
              "      fill: #1967D2;\n",
              "      height: 32px;\n",
              "      padding: 0 0 0 0;\n",
              "      width: 32px;\n",
              "    }\n",
              "\n",
              "    .colab-df-convert:hover {\n",
              "      background-color: #E2EBFA;\n",
              "      box-shadow: 0px 1px 2px rgba(60, 64, 67, 0.3), 0px 1px 3px 1px rgba(60, 64, 67, 0.15);\n",
              "      fill: #174EA6;\n",
              "    }\n",
              "\n",
              "    [theme=dark] .colab-df-convert {\n",
              "      background-color: #3B4455;\n",
              "      fill: #D2E3FC;\n",
              "    }\n",
              "\n",
              "    [theme=dark] .colab-df-convert:hover {\n",
              "      background-color: #434B5C;\n",
              "      box-shadow: 0px 1px 3px 1px rgba(0, 0, 0, 0.15);\n",
              "      filter: drop-shadow(0px 1px 2px rgba(0, 0, 0, 0.3));\n",
              "      fill: #FFFFFF;\n",
              "    }\n",
              "  </style>\n",
              "\n",
              "      <script>\n",
              "        const buttonEl =\n",
              "          document.querySelector('#df-6d361c8b-6423-43cb-8808-c551864a32e2 button.colab-df-convert');\n",
              "        buttonEl.style.display =\n",
              "          google.colab.kernel.accessAllowed ? 'block' : 'none';\n",
              "\n",
              "        async function convertToInteractive(key) {\n",
              "          const element = document.querySelector('#df-6d361c8b-6423-43cb-8808-c551864a32e2');\n",
              "          const dataTable =\n",
              "            await google.colab.kernel.invokeFunction('convertToInteractive',\n",
              "                                                     [key], {});\n",
              "          if (!dataTable) return;\n",
              "\n",
              "          const docLinkHtml = 'Like what you see? Visit the ' +\n",
              "            '<a target=\"_blank\" href=https://colab.research.google.com/notebooks/data_table.ipynb>data table notebook</a>'\n",
              "            + ' to learn more about interactive tables.';\n",
              "          element.innerHTML = '';\n",
              "          dataTable['output_type'] = 'display_data';\n",
              "          await google.colab.output.renderOutput(dataTable, element);\n",
              "          const docLink = document.createElement('div');\n",
              "          docLink.innerHTML = docLinkHtml;\n",
              "          element.appendChild(docLink);\n",
              "        }\n",
              "      </script>\n",
              "    </div>\n",
              "  </div>\n",
              "  "
            ]
          },
          "metadata": {},
          "execution_count": 6
        }
      ]
    },
    {
      "cell_type": "code",
      "source": [
        "import matplotlib.pyplot as plt # \n",
        "\n",
        "df.plot(kind='scatter', x='jumlah_siswa', y='jumlah_guru') \n",
        "\n",
        "plt.title('indeks data jumlah guru dan siswa')\n",
        "plt.xlabel('jumlah_siswa')\n",
        "plt.ylabel('jumlah_guru')\n",
        "plt.xlim(0,1000)\n",
        "plt.ylim(0,50)\n",
        "plt.grid(True)\n",
        "plt.show()"
      ],
      "metadata": {
        "colab": {
          "base_uri": "https://localhost:8080/",
          "height": 296
        },
        "id": "PVCgKcHfFaB2",
        "outputId": "ca169eaf-67e7-4c12-b339-20545abdcf8d"
      },
      "execution_count": null,
      "outputs": [
        {
          "output_type": "display_data",
          "data": {
            "text/plain": [
              "<Figure size 432x288 with 1 Axes>"
            ],
            "image/png": "[encoded data removed]"
          },
          "metadata": {
            "needs_background": "light"
          }
        }
      ]
    },
    {
      "cell_type": "code",
      "source": [
        "import numpy as np\n",
        "x = np.array (df['jumlah_siswa'])\n",
        "y = np.array (df['jumlah_guru'])\n",
        "print(f'x : {x}')\n",
        "print(f'y : {y}')"
      ],
      "metadata": {
        "colab": {
          "base_uri": "https://localhost:8080/"
        },
        "id": "IaFxmKfXT8Bt",
        "outputId": "731c8198-7ba8-4aa4-9eca-4aff68726a3a"
      },
      "execution_count": null,
      "outputs": [
        {
          "output_type": "stream",
          "name": "stdout",
          "text": [
            "x : [ 396  604  630  462  825  687  458  374  381  365  819  381  337  448\n",
            " 1226  564  792  742  341  795  768  568  341]\n",
            "y : [18 27 27 22 28 30 23 14 19 15 31 14 15 18 42 26 31 29 13 32 28 21 15]\n"
          ]
        }
      ]
    },
    {
      "cell_type": "code",
      "source": [
        "x = x.reshape(-1, 1)\n",
        "x.shape"
      ],
      "metadata": {
        "colab": {
          "base_uri": "https://localhost:8080/"
        },
        "id": "iM_zulbmUHul",
        "outputId": "5f3824ba-d310-40ae-b86a-80f42dcb6d40"
      },
      "execution_count": null,
      "outputs": [
        {
          "output_type": "execute_result",
          "data": {
            "text/plain": [
              "(23, 1)"
            ]
          },
          "metadata": {},
          "execution_count": 9
        }
      ]
    },
    {
      "cell_type": "code",
      "source": [
        "x"
      ],
      "metadata": {
        "colab": {
          "base_uri": "https://localhost:8080/"
        },
        "id": "klR-8At_UL7e",
        "outputId": "a96b0ca5-21da-4308-e20d-9eb3c2f1da5b"
      },
      "execution_count": null,
      "outputs": [
        {
          "output_type": "execute_result",
          "data": {
            "text/plain": [
              "array([[ 396],\n",
              "       [ 604],\n",
              "       [ 630],\n",
              "       [ 462],\n",
              "       [ 825],\n",
              "       [ 687],\n",
              "       [ 458],\n",
              "       [ 374],\n",
              "       [ 381],\n",
              "       [ 365],\n",
              "       [ 819],\n",
              "       [ 381],\n",
              "       [ 337],\n",
              "       [ 448],\n",
              "       [1226],\n",
              "       [ 564],\n",
              "       [ 792],\n",
              "       [ 742],\n",
              "       [ 341],\n",
              "       [ 795],\n",
              "       [ 768],\n",
              "       [ 568],\n",
              "       [ 341]])"
            ]
          },
          "metadata": {},
          "execution_count": 10
        }
      ]
    },
    {
      "cell_type": "code",
      "source": [
        "from sklearn.linear_model import LinearRegression\n",
        "\n",
        "model =LinearRegression()\n",
        "model.fit(x, y)\n"
      ],
      "metadata": {
        "colab": {
          "base_uri": "https://localhost:8080/"
        },
        "id": "v4OgaqFMUWLI",
        "outputId": "3b1c3134-b56c-4ba2-f9a5-845bbd73e240"
      },
      "execution_count": null,
      "outputs": [
        {
          "output_type": "execute_result",
          "data": {
            "text/plain": [
              "LinearRegression()"
            ]
          },
          "metadata": {},
          "execution_count": 11
        }
      ]
    },
    {
      "cell_type": "code",
      "source": [
        "x_vis =np.array([0,10000]).reshape(-1, 1)\n",
        "y_vis =model.predict(x_vis)"
      ],
      "metadata": {
        "id": "O9upoYmVUhAJ"
      },
      "execution_count": null,
      "outputs": []
    },
    {
      "cell_type": "code",
      "source": [
        "plt.scatter(x, y)\n",
        "plt.plot(x_vis, y_vis, '-r' )\n",
        "plt.title('indeks data jumlah guru dan siswa tahun 2016')\n",
        "plt.xlabel('jumlah_siswa')\n",
        "plt.ylabel('jumlah_guru')\n",
        "plt.xlim(0,1370)\n",
        "plt.ylim(-2,50)\n",
        "plt.grid(True)\n",
        "plt.show()"
      ],
      "metadata": {
        "colab": {
          "base_uri": "https://localhost:8080/",
          "height": 296
        },
        "id": "-vVBNwwMUlgB",
        "outputId": "a59f319d-bda5-482c-b389-cfb421554066"
      },
      "execution_count": null,
      "outputs": [
        {
          "output_type": "display_data",
          "data": {
            "text/plain": [
              "<Figure size 432x288 with 1 Axes>"
            ],
            "image/png": "[encoded data removed]"
          },
          "metadata": {
            "needs_background": "light"
          }
        }
      ]
    },
    {
      "cell_type": "code",
      "source": [
        "import matplotlib.pyplot as plt\n",
        "fig = plt.figure()\n",
        "ax = fig.add_axes([0,0,1,1])\n",
        "siswa = df['jumlah_siswa']\n",
        "guru = df['jumlah_guru']\n",
        "c= ['red', 'green', 'blue']\n",
        "plt.title(\" bar\")\n",
        "plt.bar(siswa, guru, color= c)\n",
        "plt.show()"
      ],
      "metadata": {
        "colab": {
          "base_uri": "https://localhost:8080/",
          "height": 352
        },
        "id": "I3dNHxNRWRdo",
        "outputId": "6bfad1eb-e23b-4112-c011-f1b4dfc2ab46"
      },
      "execution_count": null,
      "outputs": [
        {
          "output_type": "display_data",
          "data": {
            "text/plain": [
              "<Figure size 432x288 with 1 Axes>"
            ],
            "image/png": "[encoded data removed]"
          },
          "metadata": {
            "needs_background": "light"
          }
        }
      ]
    },
    {
      "cell_type": "code",
      "source": [
        "import matplotlib.pyplot as plt\n",
        "# pe chart\n",
        "fig = plt.figure()\n",
        "ax = fig.add_axes([0,0,1,1])\n",
        "ax.axis('equal')\n",
        "siswa = df['jumlah_siswa']\n",
        "guru = df['jumlah_guru']\n",
        "c= ['red', 'green', 'blue']\n",
        "ax.pie(siswa,labels=guru,autopct='%1.2ff%%')\n",
        "plt.title(\" pie chat\")\n",
        "plt.show()\n"
      ],
      "metadata": {
        "colab": {
          "base_uri": "https://localhost:8080/",
          "height": 335
        },
        "id": "mcpYCavBWz7G",
        "outputId": "7d832451-b367-4b18-9f12-5d1c5813a488"
      },
      "execution_count": null,
      "outputs": [
        {
          "output_type": "display_data",
          "data": {
            "text/plain": [
              "<Figure size 432x288 with 1 Axes>"
            ],
            "image/png": "[encoded data removed]"
          },
          "metadata": {}
        }
      ]
    }
  ]
}